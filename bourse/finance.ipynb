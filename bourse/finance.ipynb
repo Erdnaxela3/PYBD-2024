{
 "cells": [
  {
   "cell_type": "code",
   "execution_count": 1,
   "metadata": {},
   "outputs": [],
   "source": [
    "import pandas as pd\n",
    "import numpy as np\n",
    "import matplotlib.pyplot as plt\n",
    "import seaborn as sns\n",
    "import glob\n",
    "import dateutil\n",
    "import re\n",
    "import os"
   ]
  },
  {
   "cell_type": "code",
   "execution_count": 2,
   "metadata": {},
   "outputs": [],
   "source": [
    "boursorama_folder = 'data/boursorama'"
   ]
  },
  {
   "cell_type": "code",
   "execution_count": 3,
   "metadata": {},
   "outputs": [
    {
     "data": {
      "text/plain": [
       "19948"
      ]
     },
     "execution_count": 3,
     "metadata": {},
     "output_type": "execute_result"
    }
   ],
   "source": [
    "compA_files = glob.glob(boursorama_folder + '/2019/compA 2019-*')\n",
    "len(compA_files)"
   ]
  },
  {
   "cell_type": "markdown",
   "metadata": {},
   "source": [
    "## Loading files"
   ]
  },
  {
   "cell_type": "code",
   "execution_count": 4,
   "metadata": {},
   "outputs": [
    {
     "data": {
      "text/plain": [
       "['./data/boursorama/2019/',\n",
       " './data/boursorama/2020/',\n",
       " './data/boursorama/2021/',\n",
       " './data/boursorama/2022/',\n",
       " './data/boursorama/2023/']"
      ]
     },
     "execution_count": 4,
     "metadata": {},
     "output_type": "execute_result"
    }
   ],
   "source": [
    "years = os.listdir('data/boursorama/')\n",
    "years.remove('.DS_Store')\n",
    "years = [int(year) for year in years]\n",
    "years.sort()\n",
    "years = [str(year) for year in years]\n",
    "years\n",
    "\n",
    "all_paths = ['./data/boursorama/' + year + '/' for year in years]\n",
    "all_paths"
   ]
  },
  {
   "cell_type": "code",
   "execution_count": null,
   "metadata": {},
   "outputs": [],
   "source": [
    "%%time\n",
    "compA = pd.concat({dateutil.parser.parse(f.split('amsterdam')[1][:-4]): pd.read_pickle(f) for year_action in all_paths for f in glob.glob(year_action + 'amsterdam*')})\n",
    "compA.sort_index(inplace=True) # chronological order\n",
    "compA.head()"
   ]
  },
  {
   "cell_type": "code",
   "execution_count": 6,
   "metadata": {},
   "outputs": [
    {
     "data": {
      "text/html": [
       "<div>\n",
       "<style scoped>\n",
       "    .dataframe tbody tr th:only-of-type {\n",
       "        vertical-align: middle;\n",
       "    }\n",
       "\n",
       "    .dataframe tbody tr th {\n",
       "        vertical-align: top;\n",
       "    }\n",
       "\n",
       "    .dataframe thead th {\n",
       "        text-align: right;\n",
       "    }\n",
       "</style>\n",
       "<table border=\"1\" class=\"dataframe\">\n",
       "  <thead>\n",
       "    <tr style=\"text-align: right;\">\n",
       "      <th></th>\n",
       "      <th></th>\n",
       "      <th>last</th>\n",
       "      <th>volume</th>\n",
       "      <th>symbol</th>\n",
       "      <th>name</th>\n",
       "    </tr>\n",
       "    <tr>\n",
       "      <th></th>\n",
       "      <th>symbol</th>\n",
       "      <th></th>\n",
       "      <th></th>\n",
       "      <th></th>\n",
       "      <th></th>\n",
       "    </tr>\n",
       "  </thead>\n",
       "  <tbody>\n",
       "    <tr>\n",
       "      <th rowspan=\"5\" valign=\"top\">2019-01-01 09:05:02.607291</th>\n",
       "      <th>1rPAAF</th>\n",
       "      <td>42.0</td>\n",
       "      <td>0</td>\n",
       "      <td>1rPAAF</td>\n",
       "      <td>ALAIN AFFLELOU SA</td>\n",
       "    </tr>\n",
       "    <tr>\n",
       "      <th>1rPAB</th>\n",
       "      <td>3.468</td>\n",
       "      <td>90743</td>\n",
       "      <td>1rPAB</td>\n",
       "      <td>AB SCIENCE</td>\n",
       "    </tr>\n",
       "    <tr>\n",
       "      <th>1rPABCA</th>\n",
       "      <td>6.08</td>\n",
       "      <td>20318</td>\n",
       "      <td>1rPABCA</td>\n",
       "      <td>ABC ARBITRAGE</td>\n",
       "    </tr>\n",
       "    <tr>\n",
       "      <th>1rPABEO</th>\n",
       "      <td>31.8</td>\n",
       "      <td>869</td>\n",
       "      <td>1rPABEO</td>\n",
       "      <td>ABEO</td>\n",
       "    </tr>\n",
       "    <tr>\n",
       "      <th>1rPABIO</th>\n",
       "      <td>18.9</td>\n",
       "      <td>6643</td>\n",
       "      <td>1rPABIO</td>\n",
       "      <td>ALBIOMA</td>\n",
       "    </tr>\n",
       "  </tbody>\n",
       "</table>\n",
       "</div>"
      ],
      "text/plain": [
       "                                     last  volume   symbol               name\n",
       "                           symbol                                            \n",
       "2019-01-01 09:05:02.607291 1rPAAF    42.0       0   1rPAAF  ALAIN AFFLELOU SA\n",
       "                           1rPAB    3.468   90743    1rPAB         AB SCIENCE\n",
       "                           1rPABCA   6.08   20318  1rPABCA      ABC ARBITRAGE\n",
       "                           1rPABEO   31.8     869  1rPABEO               ABEO\n",
       "                           1rPABIO   18.9    6643  1rPABIO            ALBIOMA"
      ]
     },
     "execution_count": 6,
     "metadata": {},
     "output_type": "execute_result"
    }
   ],
   "source": [
    "compB = pd.concat({dateutil.parser.parse(f.split('compB')[1][:-4]): pd.read_pickle(f) for year_action in all_paths for f in glob.glob(year_action + 'compB*')})\n",
    "compB.sort_index(inplace=True) # chronological order\n",
    "compB.head()"
   ]
  },
  {
   "cell_type": "code",
   "execution_count": null,
   "metadata": {},
   "outputs": [],
   "source": [
    "amsterdam = pd.concat({dateutil.parser.parse(f.split('amsterdam')[1][:-4]): pd.read_pickle(f) for year_action in all_paths for f in glob.glob(year_action + 'amsterdam*')})\n",
    "amsterdam.sort_index(inplace=True) # chronological order\n",
    "amsterdam.head()"
   ]
  },
  {
   "cell_type": "markdown",
   "metadata": {},
   "source": [
    "## Prepare Dataframe"
   ]
  },
  {
   "cell_type": "markdown",
   "metadata": {},
   "source": [
    "last should be numerical but isn't, the other columns have a correct type."
   ]
  },
  {
   "cell_type": "code",
   "execution_count": null,
   "metadata": {},
   "outputs": [],
   "source": [
    "compA.isna().sum(), compA.info()"
   ]
  },
  {
   "cell_type": "code",
   "execution_count": null,
   "metadata": {},
   "outputs": [],
   "source": [
    "def floatify(x) -> float:\n",
    "    \"\"\"\n",
    "    Convert a string to a float, removing spaces if necessary.\n",
    "    Used because .str.replace(' ', '').astype(float) + pd.to_numeric worked only on strings.\n",
    "    Doing the operation on a float would result in a NaN.\n",
    "\n",
    "    Handle:\n",
    "    - regular numeric (13, 0.14, 2.343)\n",
    "    - string ('13.0', '1321.491823', '12  222.222', '34.23 (c)')\n",
    "\n",
    "    :param x: str|float\n",
    "    :return: float\n",
    "    \"\"\"\n",
    "    try:\n",
    "        return float(re.sub(r'[^0-9.]', '', x))\n",
    "    except:\n",
    "        return x"
   ]
  },
  {
   "cell_type": "code",
   "execution_count": null,
   "metadata": {},
   "outputs": [],
   "source": [
    "assert floatify('13') == 13, f\"Expected 13, got {floatify('13')} with type {type(floatify('13'))}\"\n",
    "assert floatify('13.0') == 13, f\"Expected 13, got {floatify('13.0')} with type {type(floatify('13.0'))}\"\n",
    "assert floatify('13.2 (c)') == 13.2, f\"Expected 13.2, got {floatify('13.2 (c)')} with type {type(floatify('13.2 (c)'))}\"\n",
    "assert floatify(13.0) == 13, f\"Expected 13, got {floatify(13.0)} with type {type(floatify(13.0))}\""
   ]
  },
  {
   "cell_type": "code",
   "execution_count": null,
   "metadata": {},
   "outputs": [],
   "source": [
    "%%time\n",
    "compA['last'] = compA['last'].apply(floatify).astype(float)\n",
    "compA.isna().sum()"
   ]
  },
  {
   "cell_type": "code",
   "execution_count": null,
   "metadata": {},
   "outputs": [],
   "source": [
    "axa_symbol = '1rPCS'\n",
    "compA.loc[compA['symbol'] == axa_symbol\n",
    "].plot(y='volume', title=axa_symbol)"
   ]
  },
  {
   "cell_type": "markdown",
   "metadata": {},
   "source": [
    "## Compute volume at time T instead of cumulative volume of the day\n",
    "\n",
    "The volumes in the dataframe are intra-day total volume. Each day it gets reset to 0.\n",
    "Having the volume as the volume traded since last timestamp would be more interesting."
   ]
  },
  {
   "cell_type": "code",
   "execution_count": null,
   "metadata": {},
   "outputs": [],
   "source": [
    "compA['volume_diff'] = compA.groupby([compA.index.get_level_values('symbol'), compA.index.get_level_values(0).date])['volume'].diff()\n",
    "compA.fillna({'voxlume_diff': compA.volume}, inplace=True)\n",
    "compA[compA['volume_diff'] < 0] "
   ]
  },
  {
   "cell_type": "code",
   "execution_count": null,
   "metadata": {},
   "outputs": [],
   "source": [
    "compA.loc[compA['symbol'] == axa_symbol].plot(y='volume_diff', title=axa_symbol)"
   ]
  },
  {
   "cell_type": "markdown",
   "metadata": {},
   "source": [
    "Some value are negative. Should'nt be. Let's remove them.\\\n",
    "Let's check that the volume gets reset correctly on each day while we are at it."
   ]
  },
  {
   "cell_type": "code",
   "execution_count": null,
   "metadata": {},
   "outputs": [],
   "source": [
    "# from 2019-01-03 17:35:00 to 2019-01-04 9:20:00\n",
    "compA.loc[compA.symbol == axa_symbol].loc['2019-01-03 17:35:00':'2019-01-04 9:20:00']"
   ]
  },
  {
   "cell_type": "code",
   "execution_count": null,
   "metadata": {},
   "outputs": [],
   "source": [
    "compA = compA[compA['volume_diff'] >= 0]\n",
    "compA.shape"
   ]
  },
  {
   "cell_type": "code",
   "execution_count": null,
   "metadata": {},
   "outputs": [],
   "source": [
    "compA.loc[compA['symbol'] == axa_symbol].plot(y='volume_diff', title=\"No more shit volume value\")"
   ]
  },
  {
   "cell_type": "markdown",
   "metadata": {},
   "source": [
    "Do we have fucked up volume after removing them? Lets redo the diff to see."
   ]
  },
  {
   "cell_type": "code",
   "execution_count": null,
   "metadata": {},
   "outputs": [],
   "source": [
    "compA['volume_diff'] = compA.groupby([compA.index.get_level_values('symbol'), compA.index.get_level_values(0).date])['volume'].diff()\n",
    "compA.fillna({'volume_diff': compA.volume}, inplace=True)\n",
    "compA.loc[compA.volume_diff < 0]"
   ]
  },
  {
   "cell_type": "markdown",
   "metadata": {},
   "source": [
    "Oh no shit values again!"
   ]
  },
  {
   "cell_type": "code",
   "execution_count": null,
   "metadata": {},
   "outputs": [],
   "source": [
    "nb_bad_values = len(compA.loc[compA.volume_diff < 0])\n",
    "while nb_bad_values != 0:\n",
    "    print(nb_bad_values)\n",
    "\n",
    "    compA['volume_diff'] = compA.groupby([compA.index.get_level_values('symbol'), compA.index.get_level_values(0).date])['volume'].diff()\n",
    "    compA.fillna({'volume_diff': compA.volume}, inplace=True)\n",
    "    compA = compA[compA['volume_diff'] >= 0]\n",
    "\n",
    "    nb_bad_values = len(compA.loc[compA.volume_diff < 0])"
   ]
  },
  {
   "cell_type": "code",
   "execution_count": null,
   "metadata": {},
   "outputs": [],
   "source": [
    "compA.loc[compA['symbol'] == '1rPMC'].plot(y='volume_diff', title=\"No more shit volume value\")"
   ]
  },
  {
   "cell_type": "code",
   "execution_count": null,
   "metadata": {},
   "outputs": [],
   "source": [
    "compA.isna().sum()"
   ]
  },
  {
   "cell_type": "markdown",
   "metadata": {},
   "source": [
    "# Day open/close/high/low"
   ]
  },
  {
   "cell_type": "code",
   "execution_count": null,
   "metadata": {},
   "outputs": [],
   "source": [
    "grouped = compA.groupby([compA.index.get_level_values('symbol'), compA.index.get_level_values(0).date])\n",
    "ohlc = grouped['last'].ohlc()\n",
    "ohlc"
   ]
  },
  {
   "cell_type": "markdown",
   "metadata": {},
   "source": [
    "Lets drop the NaN"
   ]
  },
  {
   "cell_type": "code",
   "execution_count": null,
   "metadata": {},
   "outputs": [],
   "source": [
    "ohlc = ohlc.dropna()\n",
    "ohlc.tail()"
   ]
  },
  {
   "cell_type": "markdown",
   "metadata": {},
   "source": [
    "Lets that the values are correct for AXA on 2019-01-03"
   ]
  },
  {
   "cell_type": "code",
   "execution_count": null,
   "metadata": {},
   "outputs": [],
   "source": [
    "ohlc.loc[axa_symbol].head()\n",
    "# 18.664 18.928\t18.646\t18.650"
   ]
  },
  {
   "cell_type": "code",
   "execution_count": null,
   "metadata": {},
   "outputs": [],
   "source": [
    "axa_20190103 = compA.loc[compA.symbol == axa_symbol].loc['2019-01-03']['last'].to_numpy()\n",
    "print(\"Expected: 18.664, 18.928, 18.646,18.650\")\n",
    "\"Acutal: \", axa_20190103[0], axa_20190103.max(), axa_20190103.min(), axa_20190103[-1]\n"
   ]
  },
  {
   "cell_type": "markdown",
   "metadata": {},
   "source": [
    "# Lets plot candlestick (and bollingers bands)"
   ]
  },
  {
   "cell_type": "code",
   "execution_count": null,
   "metadata": {},
   "outputs": [],
   "source": [
    "import plotly.graph_objects as go\n",
    "import plotly.offline as pyo"
   ]
  },
  {
   "cell_type": "code",
   "execution_count": null,
   "metadata": {},
   "outputs": [],
   "source": [
    "def candlestick(symbol: str) -> go.Candlestick:\n",
    "    stock = ohlc.loc[symbol]\n",
    "    ret = go.Candlestick(\n",
    "        x=stock.index,\n",
    "        open=stock['open'],\n",
    "        high=stock['high'],\n",
    "        low=stock['low'],\n",
    "        close=stock['close'],\n",
    "        text=symbol,\n",
    "        name=symbol,\n",
    "    )\n",
    "    return ret"
   ]
  },
  {
   "cell_type": "code",
   "execution_count": null,
   "metadata": {},
   "outputs": [],
   "source": [
    "symbols = ['1rPEDFPFF'] #On peut rajouter le nom de la boite pour opti?"
   ]
  },
  {
   "cell_type": "code",
   "execution_count": null,
   "metadata": {},
   "outputs": [],
   "source": [
    "stock = ohlc.loc['1rPEDFPFF']\n",
    "# bollinger bands\n",
    "stock['MA20'] = stock.close.rolling(window=20).mean()\n",
    "stock['STD20'] = stock.close.rolling(window=20).std()\n",
    "stock['upper'] = stock['MA20'] + (stock['STD20'] * 2)\n",
    "stock['lower'] = stock['MA20'] - (stock['STD20'] * 2)\n",
    "stock.drop_duplicates(keep=False)\n"
   ]
  },
  {
   "cell_type": "markdown",
   "metadata": {},
   "source": [
    "# REMOVE SYMBOLS END WITH NV"
   ]
  },
  {
   "cell_type": "code",
   "execution_count": null,
   "metadata": {},
   "outputs": [],
   "source": [
    "\"\"\"\n",
    "    1rPVK  -> Change name VALOUREC -> SRDVALOUREC à partir de 2022 ça change pas\n",
    "    1rPEDFPFF -> Fais un truc chelou -> condition d'un minimum de pts sur la courbe ?\n",
    "    FF11_FP -> Bizarre 3 types de valeurs differentes mais dupliquer -> condition d'un minimum de pts sur la courbe ?\n",
    "    1rPEUCAR -> GROS TROUS en 2020-2021\n",
    "    FIXME\n",
    "\"\"\"\n",
    "all_symbols = set(compA.symbol.values)\n",
    "\n",
    "pattern = r'.*NV$'\n",
    "filtered_symbols = {item for item in all_symbols if not re.match(pattern, item)}"
   ]
  },
  {
   "cell_type": "markdown",
   "metadata": {},
   "source": [
    "# Plot several figure"
   ]
  },
  {
   "cell_type": "code",
   "execution_count": null,
   "metadata": {},
   "outputs": [],
   "source": [
    "def fill_stock(symbol: str) -> pd.DataFrame :\n",
    "    stock = ohlc.loc[symbol]\n",
    "    # bollinger bands\n",
    "    stock['MA20'] = stock.close.rolling(window=20).mean()\n",
    "    stock['STD20'] = stock.close.rolling(window=20).std()\n",
    "    stock['upper'] = stock['MA20'] + (stock['STD20'] * 2)\n",
    "    stock['lower'] = stock['MA20'] - (stock['STD20'] * 2)\n",
    "    return stock"
   ]
  },
  {
   "cell_type": "code",
   "execution_count": null,
   "metadata": {},
   "outputs": [],
   "source": [
    "for symbol in filtered_symbols:\n",
    "    \n",
    "    stock = fill_stock(symbol)\n",
    "\n",
    "    #Condition pour enlever les duplicates\n",
    "\n",
    "    stock.drop_duplicates(keep=False, inplace=True)\n",
    "    if stock.shape[0] <= 1:\n",
    "        continue\n",
    "    print(stock.shape[0])\n",
    "    fig = go.Figure(\n",
    "    data=[candlestick(symbol)] + [\n",
    "        go.Line(x=stock.index, y=stock['MA20'], name=compA[compA['symbol'] == symbol]['name'].values[-1]),\n",
    "        go.Scatter(x=stock.index, y=stock['upper'], name='upper bollinger', fill='tonexty', line_color='lightblue', opacity=0.3),\n",
    "        go.Scatter(x=stock.index, y=stock['lower'], name='lower bollinger', fill='tonexty', line_color='lightblue', opacity=0.3),\n",
    "    ])\n",
    "    fig.show()"
   ]
  },
  {
   "cell_type": "code",
   "execution_count": null,
   "metadata": {},
   "outputs": [],
   "source": [
    "compA[compA['symbol'] == '1rASGO'].drop_duplicates()"
   ]
  },
  {
   "cell_type": "code",
   "execution_count": null,
   "metadata": {},
   "outputs": [],
   "source": []
  }
 ],
 "metadata": {
  "kernelspec": {
   "display_name": "Python 3 (ipykernel)",
   "language": "python",
   "name": "python3"
  },
  "language_info": {
   "codemirror_mode": {
    "name": "ipython",
    "version": 3
   },
   "file_extension": ".py",
   "mimetype": "text/x-python",
   "name": "python",
   "nbconvert_exporter": "python",
   "pygments_lexer": "ipython3",
   "version": "3.12.3"
  }
 },
 "nbformat": 4,
 "nbformat_minor": 4
}
