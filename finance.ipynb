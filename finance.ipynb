{
 "cells": [
  {
   "cell_type": "code",
   "execution_count": null,
   "metadata": {},
   "outputs": [],
   "source": [
    "import pandas as pd\n",
    "import numpy as np\n",
    "import matplotlib.pyplot as plt\n",
    "import seaborn as sns\n",
    "import glob\n",
    "import dateutil\n",
    "import re"
   ]
  },
  {
   "cell_type": "code",
   "execution_count": null,
   "metadata": {},
   "outputs": [],
   "source": [
    "boursorama_folder = '/home/aweng/afs/pybd/boursorama'"
   ]
  },
  {
   "cell_type": "code",
   "execution_count": null,
   "metadata": {},
   "outputs": [],
   "source": [
    "compA_files = glob.glob(boursorama_folder + '/2019/compA 2019-*')\n",
    "len(compA_files)"
   ]
  },
  {
   "cell_type": "markdown",
   "metadata": {},
   "source": [
    "## Loading files"
   ]
  },
  {
   "cell_type": "code",
   "execution_count": null,
   "metadata": {},
   "outputs": [],
   "source": [
    "%%time\n",
    "compA = {}\n",
    "for file in compA_files:\n",
    "    date = dateutil.parser.parse('.'.join(' '.join(file.split()[1:]).split(\".\")[:-1]))\n",
    "    compA[date] = pd.read_pickle(file)\n",
    "compA = pd.concat(compA)\n",
    "compA.sort_index(inplace=True) # chronological order\n",
    "compA.head()"
   ]
  },
  {
   "cell_type": "markdown",
   "metadata": {},
   "source": [
    "## Prepare Dataframe"
   ]
  },
  {
   "cell_type": "markdown",
   "metadata": {},
   "source": [
    "last should be numerical but isn't, the other columns have a correct type."
   ]
  },
  {
   "cell_type": "code",
   "execution_count": null,
   "metadata": {},
   "outputs": [],
   "source": [
    "compA.isna().sum(), compA.info()"
   ]
  },
  {
   "cell_type": "code",
   "execution_count": null,
   "metadata": {},
   "outputs": [],
   "source": [
    "def floatify(x) -> float:\n",
    "    \"\"\"\n",
    "    Convert a string to a float, removing spaces if necessary.\n",
    "    Used because .str.replace(' ', '').astype(float) + pd.to_numeric worked only on strings.\n",
    "    Doing the operation on a float would result in a NaN.\n",
    "\n",
    "    Handle:\n",
    "    - regular numeric (13, 0.14, 2.343)\n",
    "    - string ('13.0', '1321.491823', '12  222.222', '34.23 (c)')\n",
    "\n",
    "    :param x: str|float\n",
    "    :return: float\n",
    "    \"\"\"\n",
    "    try:\n",
    "        return float(re.sub(r'[^0-9.]', '', x))\n",
    "    except:\n",
    "        return x"
   ]
  },
  {
   "cell_type": "code",
   "execution_count": null,
   "metadata": {},
   "outputs": [],
   "source": [
    "assert floatify('13') == 13, f\"Expected 13, got {floatify('13')} with type {type(floatify('13'))}\"\n",
    "assert floatify('13.0') == 13, f\"Expected 13, got {floatify('13.0')} with type {type(floatify('13.0'))}\"\n",
    "assert floatify('13.2 (c)') == 13.2, f\"Expected 13.2, got {floatify('13.2 (c)')} with type {type(floatify('13.2 (c)'))}\"\n",
    "assert floatify(13.0) == 13, f\"Expected 13, got {floatify(13.0)} with type {type(floatify(13.0))}\""
   ]
  },
  {
   "cell_type": "code",
   "execution_count": null,
   "metadata": {},
   "outputs": [],
   "source": [
    "%%time\n",
    "compA['last'] = compA['last'].apply(floatify).astype(float)\n",
    "compA.isna().sum()"
   ]
  },
  {
   "cell_type": "code",
   "execution_count": null,
   "metadata": {},
   "outputs": [],
   "source": [
    "axa_symbol = '1rPCS'\n",
    "compA.loc[compA['symbol'] == axa_symbol].plot(y='volume', title=axa_symbol)"
   ]
  },
  {
   "cell_type": "markdown",
   "metadata": {},
   "source": [
    "## Compute volume at time T instead of cumulative volume of the day\n",
    "\n",
    "The volumes in the dataframe are intra-day total volume. Each day it gets reset to 0.\n",
    "Having the volume as the volume traded since last timestamp would be more interesting."
   ]
  },
  {
   "cell_type": "code",
   "execution_count": null,
   "metadata": {},
   "outputs": [],
   "source": [
    "compA['volume_diff'] = compA.groupby([compA.index.get_level_values('symbol'), compA.index.get_level_values(0).date])['volume'].diff()\n",
    "compA.fillna({'volume_diff': compA.volume}, inplace=True)\n",
    "compA.head()"
   ]
  },
  {
   "cell_type": "code",
   "execution_count": null,
   "metadata": {},
   "outputs": [],
   "source": [
    "compA.loc[compA['symbol'] == axa_symbol].plot(y='volume_diff', title=axa_symbol)"
   ]
  },
  {
   "cell_type": "markdown",
   "metadata": {},
   "source": [
    "Some value are negative. Should'nt be. Let's remove them.\\\n",
    "Let's check that the volume gets reset correctly on each day while we are at it."
   ]
  },
  {
   "cell_type": "code",
   "execution_count": null,
   "metadata": {},
   "outputs": [],
   "source": [
    "# from 2019-01-03 17:35:00 to 2019-01-04 9:20:00\n",
    "compA.loc[compA.symbol == axa_symbol].loc['2019-01-03 17:35:00':'2019-01-04 9:20:00']"
   ]
  },
  {
   "cell_type": "code",
   "execution_count": null,
   "metadata": {},
   "outputs": [],
   "source": [
    "compA = compA[compA['volume_diff'] >= 0]\n",
    "compA.shape"
   ]
  },
  {
   "cell_type": "code",
   "execution_count": null,
   "metadata": {},
   "outputs": [],
   "source": [
    "compA.loc[compA['symbol'] == axa_symbol].plot(y='volume_diff', title=\"No more shit volume value\")"
   ]
  },
  {
   "cell_type": "markdown",
   "metadata": {},
   "source": [
    "Do we have fucked up volume after removing them? Lets redo the diff to see."
   ]
  },
  {
   "cell_type": "code",
   "execution_count": null,
   "metadata": {},
   "outputs": [],
   "source": [
    "compA['volume_diff'] = compA.groupby([compA.index.get_level_values('symbol'), compA.index.get_level_values(0).date])['volume'].diff()\n",
    "compA.fillna({'volume_diff': compA.volume}, inplace=True)\n",
    "compA.loc[compA.volume_diff < 0]"
   ]
  },
  {
   "cell_type": "markdown",
   "metadata": {},
   "source": [
    "Oh no shit values again!"
   ]
  },
  {
   "cell_type": "code",
   "execution_count": null,
   "metadata": {},
   "outputs": [],
   "source": [
    "nb_bad_values = len(compA.loc[compA.volume_diff < 0])\n",
    "while nb_bad_values != 0:\n",
    "    print(nb_bad_values)\n",
    "\n",
    "    compA['volume_diff'] = compA.groupby([compA.index.get_level_values('symbol'), compA.index.get_level_values(0).date])['volume'].diff()\n",
    "    compA.fillna({'volume_diff': compA.volume}, inplace=True)\n",
    "    compA = compA[compA['volume_diff'] >= 0]\n",
    "\n",
    "    nb_bad_values = len(compA.loc[compA.volume_diff < 0])"
   ]
  },
  {
   "cell_type": "code",
   "execution_count": null,
   "metadata": {},
   "outputs": [],
   "source": [
    "compA.loc[compA['symbol'] == '1rPMC'].plot(y='volume_diff', title=\"No more shit volume value\")"
   ]
  },
  {
   "cell_type": "code",
   "execution_count": null,
   "metadata": {},
   "outputs": [],
   "source": [
    "compA.isna().sum()"
   ]
  },
  {
   "cell_type": "markdown",
   "metadata": {},
   "source": [
    "# Day open/close/high/low"
   ]
  },
  {
   "cell_type": "code",
   "execution_count": null,
   "metadata": {},
   "outputs": [],
   "source": [
    "grouped = compA.groupby([compA.index.get_level_values('symbol'), compA.index.get_level_values(0).date])\n",
    "ohlc = grouped['last'].ohlc()\n",
    "ohlc"
   ]
  },
  {
   "cell_type": "markdown",
   "metadata": {},
   "source": [
    "Lets drop the NaN"
   ]
  },
  {
   "cell_type": "code",
   "execution_count": null,
   "metadata": {},
   "outputs": [],
   "source": [
    "ohlc = ohlc.dropna()\n",
    "ohlc.tail()"
   ]
  },
  {
   "cell_type": "markdown",
   "metadata": {},
   "source": [
    "Lets that the values are correct for AXA on 2019-01-03"
   ]
  },
  {
   "cell_type": "code",
   "execution_count": null,
   "metadata": {},
   "outputs": [],
   "source": [
    "ohlc.loc[axa_symbol].head()\n",
    "# 18.664 18.928\t18.646\t18.650"
   ]
  },
  {
   "cell_type": "code",
   "execution_count": null,
   "metadata": {},
   "outputs": [],
   "source": [
    "axa_20190103 = compA.loc[compA.symbol == axa_symbol].loc['2019-01-03']['last'].to_numpy()\n",
    "print(\"Expected: 18.664, 18.928, 18.646,18.650\")\n",
    "\"Acutal: \", axa_20190103[0], axa_20190103.max(), axa_20190103.min(), axa_20190103[-1]\n"
   ]
  },
  {
   "cell_type": "markdown",
   "metadata": {},
   "source": [
    "# Lets plot candlestick (and bollingers bands)"
   ]
  },
  {
   "cell_type": "code",
   "execution_count": null,
   "metadata": {},
   "outputs": [],
   "source": [
    "import plotly.graph_objects as go"
   ]
  },
  {
   "cell_type": "code",
   "execution_count": null,
   "metadata": {},
   "outputs": [],
   "source": [
    "def candlestick(symbol: str) -> go.Candlestick:\n",
    "    stock = ohlc.loc[symbol]\n",
    "    ret = go.Candlestick(\n",
    "        x=stock.index,\n",
    "        open=stock['open'],\n",
    "        high=stock['high'],\n",
    "        low=stock['low'],\n",
    "        close=stock['close'],\n",
    "        text=symbol,\n",
    "        name=symbol,\n",
    "    )\n",
    "    return ret"
   ]
  },
  {
   "cell_type": "code",
   "execution_count": null,
   "metadata": {},
   "outputs": [],
   "source": [
    "symbols = [axa_symbol, '1rPVIE']"
   ]
  },
  {
   "cell_type": "code",
   "execution_count": null,
   "metadata": {},
   "outputs": [],
   "source": [
    "stock = ohlc.loc['1rPCS']\n",
    "# bollinger bands\n",
    "stock['MA20'] = stock.close.rolling(window=20).mean()\n",
    "stock['STD20'] = stock.close.rolling(window=20).std()\n",
    "stock['upper'] = stock['MA20'] + (stock['STD20'] * 2)\n",
    "stock['lower'] = stock['MA20'] - (stock['STD20'] * 2)"
   ]
  },
  {
   "cell_type": "code",
   "execution_count": null,
   "metadata": {},
   "outputs": [],
   "source": [
    "fig = go.Figure(\n",
    "    data=[candlestick(symbol) for symbol in symbols] + [\n",
    "        go.Line(x=stock.index, y=stock['MA20'], name='MA20'),\n",
    "        go.Scatter(x=stock.index, y=stock['upper'], name='upper bollinger', fill='tonexty', line_color='lightblue', opacity=0.3),\n",
    "        go.Scatter(x=stock.index, y=stock['lower'], name='lower bollinger', fill='tonexty', line_color='lightblue', opacity=0.3),\n",
    "    ])\n",
    "\n",
    "fig.show()"
   ]
  },
  {
   "cell_type": "code",
   "execution_count": null,
   "metadata": {},
   "outputs": [],
   "source": []
  }
 ],
 "metadata": {
  "kernelspec": {
   "display_name": "pybd",
   "language": "python",
   "name": "python3"
  },
  "language_info": {
   "codemirror_mode": {
    "name": "ipython",
    "version": 3
   },
   "file_extension": ".py",
   "mimetype": "text/x-python",
   "name": "python",
   "nbconvert_exporter": "python",
   "pygments_lexer": "ipython3",
   "version": "3.12.2"
  }
 },
 "nbformat": 4,
 "nbformat_minor": 2
}
